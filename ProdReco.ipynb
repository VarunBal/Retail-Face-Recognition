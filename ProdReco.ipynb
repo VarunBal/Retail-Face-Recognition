{
 "cells": [
  {
   "cell_type": "markdown",
   "metadata": {
    "id": "69nTLbZ2vQsu"
   },
   "source": [
    "## Importing Libraries"
   ]
  },
  {
   "cell_type": "code",
   "execution_count": 1,
   "metadata": {
    "id": "jTR9UUCAkD09"
   },
   "outputs": [],
   "source": [
    "import pandas as pd\n",
    "import numpy as np\n",
    "from datetime import datetime"
   ]
  },
  {
   "cell_type": "markdown",
   "metadata": {
    "id": "7ycealdgwyFS"
   },
   "source": [
    "##Cleaning the Data"
   ]
  },
  {
   "cell_type": "code",
   "execution_count": 2,
   "metadata": {
    "id": "lk_nr0Nttuw4"
   },
   "outputs": [],
   "source": [
    "df_new = pd.read_csv('data.csv',encoding=\"ISO-8859-1\",dtype={'CustomerID': str,'InvoiceID': str})"
   ]
  },
  {
   "cell_type": "code",
   "execution_count": 3,
   "metadata": {
    "colab": {
     "base_uri": "https://localhost:8080/",
     "height": 424
    },
    "id": "a_bQJs6Jt-FE",
    "outputId": "de1282dc-9197-43f6-8d04-28f5af47b5f3"
   },
   "outputs": [
    {
     "data": {
      "text/html": [
       "<div>\n",
       "<style scoped>\n",
       "    .dataframe tbody tr th:only-of-type {\n",
       "        vertical-align: middle;\n",
       "    }\n",
       "\n",
       "    .dataframe tbody tr th {\n",
       "        vertical-align: top;\n",
       "    }\n",
       "\n",
       "    .dataframe thead th {\n",
       "        text-align: right;\n",
       "    }\n",
       "</style>\n",
       "<table border=\"1\" class=\"dataframe\">\n",
       "  <thead>\n",
       "    <tr style=\"text-align: right;\">\n",
       "      <th></th>\n",
       "      <th>InvoiceNo</th>\n",
       "      <th>StockCode</th>\n",
       "      <th>Description</th>\n",
       "      <th>Quantity</th>\n",
       "      <th>InvoiceDate</th>\n",
       "      <th>UnitPrice</th>\n",
       "      <th>CustomerID</th>\n",
       "      <th>Country</th>\n",
       "    </tr>\n",
       "  </thead>\n",
       "  <tbody>\n",
       "    <tr>\n",
       "      <th>0</th>\n",
       "      <td>536365</td>\n",
       "      <td>85123A</td>\n",
       "      <td>WHITE HANGING HEART T-LIGHT HOLDER</td>\n",
       "      <td>6</td>\n",
       "      <td>12/1/2010 8:26</td>\n",
       "      <td>2.55</td>\n",
       "      <td>17850</td>\n",
       "      <td>United Kingdom</td>\n",
       "    </tr>\n",
       "    <tr>\n",
       "      <th>1</th>\n",
       "      <td>536365</td>\n",
       "      <td>71053</td>\n",
       "      <td>WHITE METAL LANTERN</td>\n",
       "      <td>6</td>\n",
       "      <td>12/1/2010 8:26</td>\n",
       "      <td>3.39</td>\n",
       "      <td>17850</td>\n",
       "      <td>United Kingdom</td>\n",
       "    </tr>\n",
       "    <tr>\n",
       "      <th>2</th>\n",
       "      <td>536365</td>\n",
       "      <td>84406B</td>\n",
       "      <td>CREAM CUPID HEARTS COAT HANGER</td>\n",
       "      <td>8</td>\n",
       "      <td>12/1/2010 8:26</td>\n",
       "      <td>2.75</td>\n",
       "      <td>17850</td>\n",
       "      <td>United Kingdom</td>\n",
       "    </tr>\n",
       "    <tr>\n",
       "      <th>3</th>\n",
       "      <td>536365</td>\n",
       "      <td>84029G</td>\n",
       "      <td>KNITTED UNION FLAG HOT WATER BOTTLE</td>\n",
       "      <td>6</td>\n",
       "      <td>12/1/2010 8:26</td>\n",
       "      <td>3.39</td>\n",
       "      <td>17850</td>\n",
       "      <td>United Kingdom</td>\n",
       "    </tr>\n",
       "    <tr>\n",
       "      <th>4</th>\n",
       "      <td>536365</td>\n",
       "      <td>84029E</td>\n",
       "      <td>RED WOOLLY HOTTIE WHITE HEART.</td>\n",
       "      <td>6</td>\n",
       "      <td>12/1/2010 8:26</td>\n",
       "      <td>3.39</td>\n",
       "      <td>17850</td>\n",
       "      <td>United Kingdom</td>\n",
       "    </tr>\n",
       "    <tr>\n",
       "      <th>...</th>\n",
       "      <td>...</td>\n",
       "      <td>...</td>\n",
       "      <td>...</td>\n",
       "      <td>...</td>\n",
       "      <td>...</td>\n",
       "      <td>...</td>\n",
       "      <td>...</td>\n",
       "      <td>...</td>\n",
       "    </tr>\n",
       "    <tr>\n",
       "      <th>541904</th>\n",
       "      <td>581587</td>\n",
       "      <td>22613</td>\n",
       "      <td>PACK OF 20 SPACEBOY NAPKINS</td>\n",
       "      <td>12</td>\n",
       "      <td>12/9/2011 12:50</td>\n",
       "      <td>0.85</td>\n",
       "      <td>12680</td>\n",
       "      <td>France</td>\n",
       "    </tr>\n",
       "    <tr>\n",
       "      <th>541905</th>\n",
       "      <td>581587</td>\n",
       "      <td>22899</td>\n",
       "      <td>CHILDREN'S APRON DOLLY GIRL</td>\n",
       "      <td>6</td>\n",
       "      <td>12/9/2011 12:50</td>\n",
       "      <td>2.10</td>\n",
       "      <td>12680</td>\n",
       "      <td>France</td>\n",
       "    </tr>\n",
       "    <tr>\n",
       "      <th>541906</th>\n",
       "      <td>581587</td>\n",
       "      <td>23254</td>\n",
       "      <td>CHILDRENS CUTLERY DOLLY GIRL</td>\n",
       "      <td>4</td>\n",
       "      <td>12/9/2011 12:50</td>\n",
       "      <td>4.15</td>\n",
       "      <td>12680</td>\n",
       "      <td>France</td>\n",
       "    </tr>\n",
       "    <tr>\n",
       "      <th>541907</th>\n",
       "      <td>581587</td>\n",
       "      <td>23255</td>\n",
       "      <td>CHILDRENS CUTLERY CIRCUS PARADE</td>\n",
       "      <td>4</td>\n",
       "      <td>12/9/2011 12:50</td>\n",
       "      <td>4.15</td>\n",
       "      <td>12680</td>\n",
       "      <td>France</td>\n",
       "    </tr>\n",
       "    <tr>\n",
       "      <th>541908</th>\n",
       "      <td>581587</td>\n",
       "      <td>22138</td>\n",
       "      <td>BAKING SET 9 PIECE RETROSPOT</td>\n",
       "      <td>3</td>\n",
       "      <td>12/9/2011 12:50</td>\n",
       "      <td>4.95</td>\n",
       "      <td>12680</td>\n",
       "      <td>France</td>\n",
       "    </tr>\n",
       "  </tbody>\n",
       "</table>\n",
       "<p>406829 rows × 8 columns</p>\n",
       "</div>"
      ],
      "text/plain": [
       "       InvoiceNo StockCode                          Description  Quantity  \\\n",
       "0         536365    85123A   WHITE HANGING HEART T-LIGHT HOLDER         6   \n",
       "1         536365     71053                  WHITE METAL LANTERN         6   \n",
       "2         536365    84406B       CREAM CUPID HEARTS COAT HANGER         8   \n",
       "3         536365    84029G  KNITTED UNION FLAG HOT WATER BOTTLE         6   \n",
       "4         536365    84029E       RED WOOLLY HOTTIE WHITE HEART.         6   \n",
       "...          ...       ...                                  ...       ...   \n",
       "541904    581587     22613          PACK OF 20 SPACEBOY NAPKINS        12   \n",
       "541905    581587     22899         CHILDREN'S APRON DOLLY GIRL          6   \n",
       "541906    581587     23254        CHILDRENS CUTLERY DOLLY GIRL          4   \n",
       "541907    581587     23255      CHILDRENS CUTLERY CIRCUS PARADE         4   \n",
       "541908    581587     22138        BAKING SET 9 PIECE RETROSPOT          3   \n",
       "\n",
       "            InvoiceDate  UnitPrice CustomerID         Country  \n",
       "0        12/1/2010 8:26       2.55      17850  United Kingdom  \n",
       "1        12/1/2010 8:26       3.39      17850  United Kingdom  \n",
       "2        12/1/2010 8:26       2.75      17850  United Kingdom  \n",
       "3        12/1/2010 8:26       3.39      17850  United Kingdom  \n",
       "4        12/1/2010 8:26       3.39      17850  United Kingdom  \n",
       "...                 ...        ...        ...             ...  \n",
       "541904  12/9/2011 12:50       0.85      12680          France  \n",
       "541905  12/9/2011 12:50       2.10      12680          France  \n",
       "541906  12/9/2011 12:50       4.15      12680          France  \n",
       "541907  12/9/2011 12:50       4.15      12680          France  \n",
       "541908  12/9/2011 12:50       4.95      12680          France  \n",
       "\n",
       "[406829 rows x 8 columns]"
      ]
     },
     "execution_count": 3,
     "metadata": {},
     "output_type": "execute_result"
    }
   ],
   "source": [
    "df_new.dropna()"
   ]
  },
  {
   "cell_type": "code",
   "execution_count": 4,
   "metadata": {
    "colab": {
     "base_uri": "https://localhost:8080/",
     "height": 0
    },
    "id": "YWSRCpbauJrR",
    "outputId": "fa10747d-cdfd-4ba5-a42f-d6d7dc668033"
   },
   "outputs": [
    {
     "data": {
      "text/plain": [
       "InvoiceNo           0\n",
       "StockCode           0\n",
       "Description      1454\n",
       "Quantity            0\n",
       "InvoiceDate         0\n",
       "UnitPrice           0\n",
       "CustomerID     135080\n",
       "Country             0\n",
       "dtype: int64"
      ]
     },
     "execution_count": 4,
     "metadata": {},
     "output_type": "execute_result"
    }
   ],
   "source": [
    "df_new.isnull().sum()"
   ]
  },
  {
   "cell_type": "code",
   "execution_count": 5,
   "metadata": {
    "id": "KpbXLsq_uL-S"
   },
   "outputs": [],
   "source": [
    "df_new = df_new[df_new['Quantity'] >= 0]\n",
    "df_new = df_new[df_new['UnitPrice'] >= 0]"
   ]
  },
  {
   "cell_type": "code",
   "execution_count": 6,
   "metadata": {
    "colab": {
     "base_uri": "https://localhost:8080/",
     "height": 0
    },
    "id": "xApqbt4tuWpv",
    "outputId": "32da56a6-7886-4c71-b526-9ac414b12c59"
   },
   "outputs": [
    {
     "data": {
      "text/plain": [
       "InvoiceNo           0\n",
       "StockCode           0\n",
       "Description       592\n",
       "Quantity            0\n",
       "InvoiceDate         0\n",
       "UnitPrice           0\n",
       "CustomerID     133359\n",
       "Country             0\n",
       "dtype: int64"
      ]
     },
     "execution_count": 6,
     "metadata": {},
     "output_type": "execute_result"
    }
   ],
   "source": [
    "df_new.isnull().sum()"
   ]
  },
  {
   "cell_type": "code",
   "execution_count": 7,
   "metadata": {
    "id": "qZ0-X6HvudTo"
   },
   "outputs": [],
   "source": [
    "df_new = df_new.dropna()"
   ]
  },
  {
   "cell_type": "code",
   "execution_count": 8,
   "metadata": {
    "id": "tSPT-REXuiS9"
   },
   "outputs": [],
   "source": [
    "#last date available in our dataset\n",
    "date_string = df_new['InvoiceDate'].max()\n",
    "datetime_object = datetime.strptime(date_string, \"%m/%d/%Y %H:%M\")\n",
    "now = datetime_object.date()"
   ]
  },
  {
   "cell_type": "code",
   "execution_count": 9,
   "metadata": {
    "colab": {
     "base_uri": "https://localhost:8080/",
     "height": 0
    },
    "id": "qozLYYVQuyY3",
    "outputId": "ac72b058-8ae9-4f50-d29e-d7acff00fb42"
   },
   "outputs": [
    {
     "data": {
      "text/plain": [
       "datetime.date(2011, 9, 9)"
      ]
     },
     "execution_count": 9,
     "metadata": {},
     "output_type": "execute_result"
    }
   ],
   "source": [
    "now"
   ]
  },
  {
   "cell_type": "code",
   "execution_count": 10,
   "metadata": {
    "id": "GS9jATVWuzjy"
   },
   "outputs": [],
   "source": [
    "df_new['date'] = pd.DatetimeIndex(df_new['InvoiceDate']).date"
   ]
  },
  {
   "cell_type": "code",
   "execution_count": 11,
   "metadata": {
    "id": "SrEPKhamve4i"
   },
   "outputs": [],
   "source": [
    "now = df_new['date'].max()"
   ]
  },
  {
   "cell_type": "code",
   "execution_count": 12,
   "metadata": {
    "colab": {
     "base_uri": "https://localhost:8080/",
     "height": 206
    },
    "id": "6HBICSgqu4bQ",
    "outputId": "328f43fa-7bdd-47bd-cc0e-646cf5884be4"
   },
   "outputs": [
    {
     "data": {
      "text/html": [
       "<div>\n",
       "<style scoped>\n",
       "    .dataframe tbody tr th:only-of-type {\n",
       "        vertical-align: middle;\n",
       "    }\n",
       "\n",
       "    .dataframe tbody tr th {\n",
       "        vertical-align: top;\n",
       "    }\n",
       "\n",
       "    .dataframe thead th {\n",
       "        text-align: right;\n",
       "    }\n",
       "</style>\n",
       "<table border=\"1\" class=\"dataframe\">\n",
       "  <thead>\n",
       "    <tr style=\"text-align: right;\">\n",
       "      <th></th>\n",
       "      <th>Description</th>\n",
       "      <th>LastPurshaceDate</th>\n",
       "    </tr>\n",
       "  </thead>\n",
       "  <tbody>\n",
       "    <tr>\n",
       "      <th>0</th>\n",
       "      <td>4 PURPLE FLOCK DINNER CANDLES</td>\n",
       "      <td>2011-12-08</td>\n",
       "    </tr>\n",
       "    <tr>\n",
       "      <th>1</th>\n",
       "      <td>50'S CHRISTMAS GIFT BAG LARGE</td>\n",
       "      <td>2011-12-09</td>\n",
       "    </tr>\n",
       "    <tr>\n",
       "      <th>2</th>\n",
       "      <td>DOLLY GIRL BEAKER</td>\n",
       "      <td>2011-12-08</td>\n",
       "    </tr>\n",
       "    <tr>\n",
       "      <th>3</th>\n",
       "      <td>I LOVE LONDON MINI BACKPACK</td>\n",
       "      <td>2011-12-08</td>\n",
       "    </tr>\n",
       "    <tr>\n",
       "      <th>4</th>\n",
       "      <td>I LOVE LONDON MINI RUCKSACK</td>\n",
       "      <td>2011-10-06</td>\n",
       "    </tr>\n",
       "  </tbody>\n",
       "</table>\n",
       "</div>"
      ],
      "text/plain": [
       "                      Description LastPurshaceDate\n",
       "0   4 PURPLE FLOCK DINNER CANDLES       2011-12-08\n",
       "1   50'S CHRISTMAS GIFT BAG LARGE       2011-12-09\n",
       "2               DOLLY GIRL BEAKER       2011-12-08\n",
       "3     I LOVE LONDON MINI BACKPACK       2011-12-08\n",
       "4     I LOVE LONDON MINI RUCKSACK       2011-10-06"
      ]
     },
     "execution_count": 12,
     "metadata": {},
     "output_type": "execute_result"
    }
   ],
   "source": [
    "recency_df = df_new.groupby(by='Description', as_index=False)['date'].max()\n",
    "recency_df.columns = ['Description','LastPurshaceDate']\n",
    "recency_df.head()"
   ]
  },
  {
   "cell_type": "code",
   "execution_count": 13,
   "metadata": {
    "id": "6EnIFkYivH3-"
   },
   "outputs": [],
   "source": [
    "#calculate recency\n",
    "recency_df['Recency'] = recency_df['LastPurshaceDate'].apply(lambda x: (now - x).days)"
   ]
  },
  {
   "cell_type": "code",
   "execution_count": 14,
   "metadata": {
    "colab": {
     "base_uri": "https://localhost:8080/",
     "height": 424
    },
    "id": "cpnHHfatvL4Y",
    "outputId": "4c0884a9-1cbc-4b8c-c475-9fab3cb58543"
   },
   "outputs": [
    {
     "data": {
      "text/html": [
       "<div>\n",
       "<style scoped>\n",
       "    .dataframe tbody tr th:only-of-type {\n",
       "        vertical-align: middle;\n",
       "    }\n",
       "\n",
       "    .dataframe tbody tr th {\n",
       "        vertical-align: top;\n",
       "    }\n",
       "\n",
       "    .dataframe thead th {\n",
       "        text-align: right;\n",
       "    }\n",
       "</style>\n",
       "<table border=\"1\" class=\"dataframe\">\n",
       "  <thead>\n",
       "    <tr style=\"text-align: right;\">\n",
       "      <th></th>\n",
       "      <th>Description</th>\n",
       "      <th>LastPurshaceDate</th>\n",
       "      <th>Recency</th>\n",
       "    </tr>\n",
       "  </thead>\n",
       "  <tbody>\n",
       "    <tr>\n",
       "      <th>2718</th>\n",
       "      <td>RED RETRO KITCHEN WALL CLOCK</td>\n",
       "      <td>2011-12-09</td>\n",
       "      <td>0</td>\n",
       "    </tr>\n",
       "    <tr>\n",
       "      <th>1943</th>\n",
       "      <td>LUNCH BAG RED RETROSPOT</td>\n",
       "      <td>2011-12-09</td>\n",
       "      <td>0</td>\n",
       "    </tr>\n",
       "    <tr>\n",
       "      <th>1166</th>\n",
       "      <td>FAIRY TALE COTTAGE NIGHT LIGHT</td>\n",
       "      <td>2011-12-09</td>\n",
       "      <td>0</td>\n",
       "    </tr>\n",
       "    <tr>\n",
       "      <th>663</th>\n",
       "      <td>CHARLIE + LOLA RED HOT WATER BOTTLE</td>\n",
       "      <td>2011-12-09</td>\n",
       "      <td>0</td>\n",
       "    </tr>\n",
       "    <tr>\n",
       "      <th>2302</th>\n",
       "      <td>PANTRY MAGNETIC  SHOPPING LIST</td>\n",
       "      <td>2011-12-09</td>\n",
       "      <td>0</td>\n",
       "    </tr>\n",
       "    <tr>\n",
       "      <th>...</th>\n",
       "      <td>...</td>\n",
       "      <td>...</td>\n",
       "      <td>...</td>\n",
       "    </tr>\n",
       "    <tr>\n",
       "      <th>2501</th>\n",
       "      <td>PINK MARSHMALLOW SCARF KNITTING KIT</td>\n",
       "      <td>2010-12-01</td>\n",
       "      <td>373</td>\n",
       "    </tr>\n",
       "    <tr>\n",
       "      <th>1400</th>\n",
       "      <td>GIRLY PINK TOOL SET</td>\n",
       "      <td>2010-12-01</td>\n",
       "      <td>373</td>\n",
       "    </tr>\n",
       "    <tr>\n",
       "      <th>2619</th>\n",
       "      <td>POTTING SHED SOW 'N' GROW SET</td>\n",
       "      <td>2010-12-01</td>\n",
       "      <td>373</td>\n",
       "    </tr>\n",
       "    <tr>\n",
       "      <th>2762</th>\n",
       "      <td>RED WHITE SCARF  HOT WATER BOTTLE</td>\n",
       "      <td>2010-12-01</td>\n",
       "      <td>373</td>\n",
       "    </tr>\n",
       "    <tr>\n",
       "      <th>2667</th>\n",
       "      <td>RECIPE BOX WITH METAL HEART</td>\n",
       "      <td>2010-12-01</td>\n",
       "      <td>373</td>\n",
       "    </tr>\n",
       "  </tbody>\n",
       "</table>\n",
       "<p>3877 rows × 3 columns</p>\n",
       "</div>"
      ],
      "text/plain": [
       "                              Description LastPurshaceDate  Recency\n",
       "2718         RED RETRO KITCHEN WALL CLOCK       2011-12-09        0\n",
       "1943              LUNCH BAG RED RETROSPOT       2011-12-09        0\n",
       "1166       FAIRY TALE COTTAGE NIGHT LIGHT       2011-12-09        0\n",
       "663   CHARLIE + LOLA RED HOT WATER BOTTLE       2011-12-09        0\n",
       "2302       PANTRY MAGNETIC  SHOPPING LIST       2011-12-09        0\n",
       "...                                   ...              ...      ...\n",
       "2501  PINK MARSHMALLOW SCARF KNITTING KIT       2010-12-01      373\n",
       "1400                  GIRLY PINK TOOL SET       2010-12-01      373\n",
       "2619        POTTING SHED SOW 'N' GROW SET       2010-12-01      373\n",
       "2762    RED WHITE SCARF  HOT WATER BOTTLE       2010-12-01      373\n",
       "2667          RECIPE BOX WITH METAL HEART       2010-12-01      373\n",
       "\n",
       "[3877 rows x 3 columns]"
      ]
     },
     "execution_count": 14,
     "metadata": {},
     "output_type": "execute_result"
    }
   ],
   "source": [
    "recency_df.sort_values(by = 'Recency')"
   ]
  },
  {
   "cell_type": "code",
   "execution_count": 15,
   "metadata": {
    "id": "_AWdOla_vM3x"
   },
   "outputs": [],
   "source": [
    "recency_df.drop('LastPurshaceDate',axis=1,inplace=True)"
   ]
  },
  {
   "cell_type": "code",
   "execution_count": 16,
   "metadata": {
    "colab": {
     "base_uri": "https://localhost:8080/",
     "height": 206
    },
    "id": "DLPP-waLv06v",
    "outputId": "939c7f0a-170d-4e96-f6ca-3cf16deff9cc"
   },
   "outputs": [
    {
     "data": {
      "text/html": [
       "<div>\n",
       "<style scoped>\n",
       "    .dataframe tbody tr th:only-of-type {\n",
       "        vertical-align: middle;\n",
       "    }\n",
       "\n",
       "    .dataframe tbody tr th {\n",
       "        vertical-align: top;\n",
       "    }\n",
       "\n",
       "    .dataframe thead th {\n",
       "        text-align: right;\n",
       "    }\n",
       "</style>\n",
       "<table border=\"1\" class=\"dataframe\">\n",
       "  <thead>\n",
       "    <tr style=\"text-align: right;\">\n",
       "      <th></th>\n",
       "      <th>Description</th>\n",
       "      <th>Frequency</th>\n",
       "    </tr>\n",
       "  </thead>\n",
       "  <tbody>\n",
       "    <tr>\n",
       "      <th>0</th>\n",
       "      <td>4 PURPLE FLOCK DINNER CANDLES</td>\n",
       "      <td>36</td>\n",
       "    </tr>\n",
       "    <tr>\n",
       "      <th>1</th>\n",
       "      <td>50'S CHRISTMAS GIFT BAG LARGE</td>\n",
       "      <td>109</td>\n",
       "    </tr>\n",
       "    <tr>\n",
       "      <th>2</th>\n",
       "      <td>DOLLY GIRL BEAKER</td>\n",
       "      <td>133</td>\n",
       "    </tr>\n",
       "    <tr>\n",
       "      <th>3</th>\n",
       "      <td>I LOVE LONDON MINI BACKPACK</td>\n",
       "      <td>68</td>\n",
       "    </tr>\n",
       "    <tr>\n",
       "      <th>4</th>\n",
       "      <td>I LOVE LONDON MINI RUCKSACK</td>\n",
       "      <td>1</td>\n",
       "    </tr>\n",
       "  </tbody>\n",
       "</table>\n",
       "</div>"
      ],
      "text/plain": [
       "                      Description  Frequency\n",
       "0   4 PURPLE FLOCK DINNER CANDLES         36\n",
       "1   50'S CHRISTMAS GIFT BAG LARGE        109\n",
       "2               DOLLY GIRL BEAKER        133\n",
       "3     I LOVE LONDON MINI BACKPACK         68\n",
       "4     I LOVE LONDON MINI RUCKSACK          1"
      ]
     },
     "execution_count": 16,
     "metadata": {},
     "output_type": "execute_result"
    }
   ],
   "source": [
    "# drop duplicates\n",
    "df_new_copy = df_new\n",
    "df_new_copy.drop_duplicates(subset=['InvoiceNo', 'Description'], keep=\"first\", inplace=True)\n",
    "#calculate frequency of purchases\n",
    "frequency_df = df_new_copy.groupby(by=['Description'], as_index=False)['InvoiceNo'].count()\n",
    "frequency_df.columns = ['Description','Frequency']\n",
    "frequency_df.head()"
   ]
  },
  {
   "cell_type": "markdown",
   "metadata": {
    "id": "8dmm4pRVwFx-"
   },
   "source": [
    "###Monetory"
   ]
  },
  {
   "cell_type": "code",
   "execution_count": 17,
   "metadata": {
    "id": "WOGYpXp-wBFt"
   },
   "outputs": [],
   "source": [
    "#create column total cost\n",
    "df_new['TotalCost'] = df_new['Quantity'] *df_new['UnitPrice']"
   ]
  },
  {
   "cell_type": "code",
   "execution_count": 18,
   "metadata": {
    "colab": {
     "base_uri": "https://localhost:8080/",
     "height": 206
    },
    "id": "DblmFfrKwEk9",
    "outputId": "438f6350-999a-4613-a6bd-6a107162862f"
   },
   "outputs": [
    {
     "data": {
      "text/html": [
       "<div>\n",
       "<style scoped>\n",
       "    .dataframe tbody tr th:only-of-type {\n",
       "        vertical-align: middle;\n",
       "    }\n",
       "\n",
       "    .dataframe tbody tr th {\n",
       "        vertical-align: top;\n",
       "    }\n",
       "\n",
       "    .dataframe thead th {\n",
       "        text-align: right;\n",
       "    }\n",
       "</style>\n",
       "<table border=\"1\" class=\"dataframe\">\n",
       "  <thead>\n",
       "    <tr style=\"text-align: right;\">\n",
       "      <th></th>\n",
       "      <th>Description</th>\n",
       "      <th>Monetary</th>\n",
       "    </tr>\n",
       "  </thead>\n",
       "  <tbody>\n",
       "    <tr>\n",
       "      <th>0</th>\n",
       "      <td>4 PURPLE FLOCK DINNER CANDLES</td>\n",
       "      <td>255.46</td>\n",
       "    </tr>\n",
       "    <tr>\n",
       "      <th>1</th>\n",
       "      <td>50'S CHRISTMAS GIFT BAG LARGE</td>\n",
       "      <td>2272.25</td>\n",
       "    </tr>\n",
       "    <tr>\n",
       "      <th>2</th>\n",
       "      <td>DOLLY GIRL BEAKER</td>\n",
       "      <td>2738.25</td>\n",
       "    </tr>\n",
       "    <tr>\n",
       "      <th>3</th>\n",
       "      <td>I LOVE LONDON MINI BACKPACK</td>\n",
       "      <td>1433.25</td>\n",
       "    </tr>\n",
       "    <tr>\n",
       "      <th>4</th>\n",
       "      <td>I LOVE LONDON MINI RUCKSACK</td>\n",
       "      <td>4.15</td>\n",
       "    </tr>\n",
       "  </tbody>\n",
       "</table>\n",
       "</div>"
      ],
      "text/plain": [
       "                      Description  Monetary\n",
       "0   4 PURPLE FLOCK DINNER CANDLES    255.46\n",
       "1   50'S CHRISTMAS GIFT BAG LARGE   2272.25\n",
       "2               DOLLY GIRL BEAKER   2738.25\n",
       "3     I LOVE LONDON MINI BACKPACK   1433.25\n",
       "4     I LOVE LONDON MINI RUCKSACK      4.15"
      ]
     },
     "execution_count": 18,
     "metadata": {},
     "output_type": "execute_result"
    }
   ],
   "source": [
    "monetary_df = df_new.groupby(by='Description',as_index=False).agg({'TotalCost': 'sum'})\n",
    "monetary_df.columns = ['Description','Monetary']\n",
    "monetary_df.head()"
   ]
  },
  {
   "cell_type": "code",
   "execution_count": 19,
   "metadata": {
    "colab": {
     "base_uri": "https://localhost:8080/",
     "height": 206
    },
    "id": "PlIEtlMgwQea",
    "outputId": "bcedd094-5112-464a-a951-75461aa5a928"
   },
   "outputs": [
    {
     "data": {
      "text/html": [
       "<div>\n",
       "<style scoped>\n",
       "    .dataframe tbody tr th:only-of-type {\n",
       "        vertical-align: middle;\n",
       "    }\n",
       "\n",
       "    .dataframe tbody tr th {\n",
       "        vertical-align: top;\n",
       "    }\n",
       "\n",
       "    .dataframe thead th {\n",
       "        text-align: right;\n",
       "    }\n",
       "</style>\n",
       "<table border=\"1\" class=\"dataframe\">\n",
       "  <thead>\n",
       "    <tr style=\"text-align: right;\">\n",
       "      <th></th>\n",
       "      <th>Description</th>\n",
       "      <th>Recency</th>\n",
       "      <th>Frequency</th>\n",
       "    </tr>\n",
       "  </thead>\n",
       "  <tbody>\n",
       "    <tr>\n",
       "      <th>0</th>\n",
       "      <td>4 PURPLE FLOCK DINNER CANDLES</td>\n",
       "      <td>1</td>\n",
       "      <td>36</td>\n",
       "    </tr>\n",
       "    <tr>\n",
       "      <th>1</th>\n",
       "      <td>50'S CHRISTMAS GIFT BAG LARGE</td>\n",
       "      <td>0</td>\n",
       "      <td>109</td>\n",
       "    </tr>\n",
       "    <tr>\n",
       "      <th>2</th>\n",
       "      <td>DOLLY GIRL BEAKER</td>\n",
       "      <td>1</td>\n",
       "      <td>133</td>\n",
       "    </tr>\n",
       "    <tr>\n",
       "      <th>3</th>\n",
       "      <td>I LOVE LONDON MINI BACKPACK</td>\n",
       "      <td>1</td>\n",
       "      <td>68</td>\n",
       "    </tr>\n",
       "    <tr>\n",
       "      <th>4</th>\n",
       "      <td>I LOVE LONDON MINI RUCKSACK</td>\n",
       "      <td>64</td>\n",
       "      <td>1</td>\n",
       "    </tr>\n",
       "  </tbody>\n",
       "</table>\n",
       "</div>"
      ],
      "text/plain": [
       "                      Description  Recency  Frequency\n",
       "0   4 PURPLE FLOCK DINNER CANDLES        1         36\n",
       "1   50'S CHRISTMAS GIFT BAG LARGE        0        109\n",
       "2               DOLLY GIRL BEAKER        1        133\n",
       "3     I LOVE LONDON MINI BACKPACK        1         68\n",
       "4     I LOVE LONDON MINI RUCKSACK       64          1"
      ]
     },
     "execution_count": 19,
     "metadata": {},
     "output_type": "execute_result"
    }
   ],
   "source": [
    "#merge recency dataframe with frequency dataframe\n",
    "temp_df = recency_df.merge(frequency_df,on='Description')\n",
    "temp_df.head()"
   ]
  },
  {
   "cell_type": "code",
   "execution_count": 20,
   "metadata": {
    "colab": {
     "base_uri": "https://localhost:8080/",
     "height": 238
    },
    "id": "AtFbTqA8wVqk",
    "outputId": "1f219471-db06-4e6d-e01d-94760e912f16"
   },
   "outputs": [
    {
     "data": {
      "text/html": [
       "<div>\n",
       "<style scoped>\n",
       "    .dataframe tbody tr th:only-of-type {\n",
       "        vertical-align: middle;\n",
       "    }\n",
       "\n",
       "    .dataframe tbody tr th {\n",
       "        vertical-align: top;\n",
       "    }\n",
       "\n",
       "    .dataframe thead th {\n",
       "        text-align: right;\n",
       "    }\n",
       "</style>\n",
       "<table border=\"1\" class=\"dataframe\">\n",
       "  <thead>\n",
       "    <tr style=\"text-align: right;\">\n",
       "      <th></th>\n",
       "      <th>Recency</th>\n",
       "      <th>Frequency</th>\n",
       "      <th>Monetary</th>\n",
       "    </tr>\n",
       "    <tr>\n",
       "      <th>Description</th>\n",
       "      <th></th>\n",
       "      <th></th>\n",
       "      <th></th>\n",
       "    </tr>\n",
       "  </thead>\n",
       "  <tbody>\n",
       "    <tr>\n",
       "      <th>4 PURPLE FLOCK DINNER CANDLES</th>\n",
       "      <td>1</td>\n",
       "      <td>36</td>\n",
       "      <td>255.46</td>\n",
       "    </tr>\n",
       "    <tr>\n",
       "      <th>50'S CHRISTMAS GIFT BAG LARGE</th>\n",
       "      <td>0</td>\n",
       "      <td>109</td>\n",
       "      <td>2272.25</td>\n",
       "    </tr>\n",
       "    <tr>\n",
       "      <th>DOLLY GIRL BEAKER</th>\n",
       "      <td>1</td>\n",
       "      <td>133</td>\n",
       "      <td>2738.25</td>\n",
       "    </tr>\n",
       "    <tr>\n",
       "      <th>I LOVE LONDON MINI BACKPACK</th>\n",
       "      <td>1</td>\n",
       "      <td>68</td>\n",
       "      <td>1433.25</td>\n",
       "    </tr>\n",
       "    <tr>\n",
       "      <th>I LOVE LONDON MINI RUCKSACK</th>\n",
       "      <td>64</td>\n",
       "      <td>1</td>\n",
       "      <td>4.15</td>\n",
       "    </tr>\n",
       "  </tbody>\n",
       "</table>\n",
       "</div>"
      ],
      "text/plain": [
       "                                Recency  Frequency  Monetary\n",
       "Description                                                 \n",
       " 4 PURPLE FLOCK DINNER CANDLES        1         36    255.46\n",
       " 50'S CHRISTMAS GIFT BAG LARGE        0        109   2272.25\n",
       " DOLLY GIRL BEAKER                    1        133   2738.25\n",
       " I LOVE LONDON MINI BACKPACK          1         68   1433.25\n",
       " I LOVE LONDON MINI RUCKSACK         64          1      4.15"
      ]
     },
     "execution_count": 20,
     "metadata": {},
     "output_type": "execute_result"
    }
   ],
   "source": [
    "#merge with monetary dataframe to get a table with the 3 columns\n",
    "rfm_df = temp_df.merge(monetary_df,on='Description')\n",
    "#use CustomerID as index\n",
    "rfm_df.set_index('Description',inplace=True)\n",
    "#check the head\n",
    "rfm_df.head()"
   ]
  },
  {
   "cell_type": "markdown",
   "metadata": {
    "id": "DeeVtBoUwd1O"
   },
   "source": [
    "##Quartiles"
   ]
  },
  {
   "cell_type": "code",
   "execution_count": 21,
   "metadata": {
    "colab": {
     "base_uri": "https://localhost:8080/",
     "height": 143
    },
    "id": "gt5L5GzOwbJ3",
    "outputId": "38dbc17a-5096-439d-85f4-1dc8be64cce7"
   },
   "outputs": [
    {
     "data": {
      "text/html": [
       "<div>\n",
       "<style scoped>\n",
       "    .dataframe tbody tr th:only-of-type {\n",
       "        vertical-align: middle;\n",
       "    }\n",
       "\n",
       "    .dataframe tbody tr th {\n",
       "        vertical-align: top;\n",
       "    }\n",
       "\n",
       "    .dataframe thead th {\n",
       "        text-align: right;\n",
       "    }\n",
       "</style>\n",
       "<table border=\"1\" class=\"dataframe\">\n",
       "  <thead>\n",
       "    <tr style=\"text-align: right;\">\n",
       "      <th></th>\n",
       "      <th>Recency</th>\n",
       "      <th>Frequency</th>\n",
       "      <th>Monetary</th>\n",
       "    </tr>\n",
       "  </thead>\n",
       "  <tbody>\n",
       "    <tr>\n",
       "      <th>0.25</th>\n",
       "      <td>1.0</td>\n",
       "      <td>10.0</td>\n",
       "      <td>114.15</td>\n",
       "    </tr>\n",
       "    <tr>\n",
       "      <th>0.50</th>\n",
       "      <td>4.0</td>\n",
       "      <td>43.0</td>\n",
       "      <td>576.90</td>\n",
       "    </tr>\n",
       "    <tr>\n",
       "      <th>0.75</th>\n",
       "      <td>53.0</td>\n",
       "      <td>125.0</td>\n",
       "      <td>1968.00</td>\n",
       "    </tr>\n",
       "  </tbody>\n",
       "</table>\n",
       "</div>"
      ],
      "text/plain": [
       "      Recency  Frequency  Monetary\n",
       "0.25      1.0       10.0    114.15\n",
       "0.50      4.0       43.0    576.90\n",
       "0.75     53.0      125.0   1968.00"
      ]
     },
     "execution_count": 21,
     "metadata": {},
     "output_type": "execute_result"
    }
   ],
   "source": [
    "quantiles = rfm_df.quantile(q=[0.25,0.5,0.75])\n",
    "quantiles"
   ]
  },
  {
   "cell_type": "code",
   "execution_count": 22,
   "metadata": {
    "colab": {
     "base_uri": "https://localhost:8080/",
     "height": 0
    },
    "id": "aOXG2egawgHz",
    "outputId": "b831c21e-10a7-4c05-dadb-132b9fc5bb08"
   },
   "outputs": [
    {
     "data": {
      "text/plain": [
       "{'Recency': {0.25: 1.0, 0.5: 4.0, 0.75: 53.0},\n",
       " 'Frequency': {0.25: 10.0, 0.5: 43.0, 0.75: 125.0},\n",
       " 'Monetary': {0.25: 114.15, 0.5: 576.9, 0.75: 1967.9999999999998}}"
      ]
     },
     "execution_count": 22,
     "metadata": {},
     "output_type": "execute_result"
    }
   ],
   "source": [
    "quantiles.to_dict()"
   ]
  },
  {
   "cell_type": "code",
   "execution_count": null,
   "metadata": {
    "id": "oL3Un900whMX"
   },
   "outputs": [],
   "source": []
  },
  {
   "cell_type": "markdown",
   "metadata": {
    "id": "jTClsRv3wi5g"
   },
   "source": [
    "##Creation of RFM Segments"
   ]
  },
  {
   "cell_type": "code",
   "execution_count": 23,
   "metadata": {
    "id": "1KuRkKeLwk3M"
   },
   "outputs": [],
   "source": [
    "# Arguments (x = value, p = recency, monetary_value, frequency, d = quartiles dict)\n",
    "def RScore(x,p,d):\n",
    "    if x <= d[p][0.25]:\n",
    "        return 4\n",
    "    elif x <= d[p][0.50]:\n",
    "        return 3\n",
    "    elif x <= d[p][0.75]:\n",
    "        return 2\n",
    "    else:\n",
    "        return 1\n",
    "# Arguments (x = value, p = recency, monetary_value, frequency, k = quartiles dict)\n",
    "def FMScore(x,p,d):\n",
    "    if x <= d[p][0.25]:\n",
    "        return 1\n",
    "    elif x <= d[p][0.50]:\n",
    "        return 2\n",
    "    elif x <= d[p][0.75]:\n",
    "        return 3\n",
    "    else:\n",
    "        return 4"
   ]
  },
  {
   "cell_type": "code",
   "execution_count": 24,
   "metadata": {
    "id": "YaARX4m1wlmW"
   },
   "outputs": [],
   "source": [
    "#create rfm segmentation table\n",
    "rfm_segmentation = rfm_df\n",
    "rfm_segmentation['R_Quartile'] = rfm_segmentation['Recency'].apply(RScore, args=('Recency',quantiles,))\n",
    "rfm_segmentation['F_Quartile'] = rfm_segmentation['Frequency'].apply(FMScore, args=('Frequency',quantiles,))\n",
    "rfm_segmentation['M_Quartile'] = rfm_segmentation['Monetary'].apply(FMScore, args=('Monetary',quantiles,))"
   ]
  },
  {
   "cell_type": "code",
   "execution_count": 25,
   "metadata": {
    "colab": {
     "base_uri": "https://localhost:8080/",
     "height": 238
    },
    "id": "YWs3P7o6wmqz",
    "outputId": "ed6772b7-7354-42c1-f975-8dfee381c3ce"
   },
   "outputs": [
    {
     "data": {
      "text/html": [
       "<div>\n",
       "<style scoped>\n",
       "    .dataframe tbody tr th:only-of-type {\n",
       "        vertical-align: middle;\n",
       "    }\n",
       "\n",
       "    .dataframe tbody tr th {\n",
       "        vertical-align: top;\n",
       "    }\n",
       "\n",
       "    .dataframe thead th {\n",
       "        text-align: right;\n",
       "    }\n",
       "</style>\n",
       "<table border=\"1\" class=\"dataframe\">\n",
       "  <thead>\n",
       "    <tr style=\"text-align: right;\">\n",
       "      <th></th>\n",
       "      <th>Recency</th>\n",
       "      <th>Frequency</th>\n",
       "      <th>Monetary</th>\n",
       "      <th>R_Quartile</th>\n",
       "      <th>F_Quartile</th>\n",
       "      <th>M_Quartile</th>\n",
       "    </tr>\n",
       "    <tr>\n",
       "      <th>Description</th>\n",
       "      <th></th>\n",
       "      <th></th>\n",
       "      <th></th>\n",
       "      <th></th>\n",
       "      <th></th>\n",
       "      <th></th>\n",
       "    </tr>\n",
       "  </thead>\n",
       "  <tbody>\n",
       "    <tr>\n",
       "      <th>4 PURPLE FLOCK DINNER CANDLES</th>\n",
       "      <td>1</td>\n",
       "      <td>36</td>\n",
       "      <td>255.46</td>\n",
       "      <td>4</td>\n",
       "      <td>2</td>\n",
       "      <td>2</td>\n",
       "    </tr>\n",
       "    <tr>\n",
       "      <th>50'S CHRISTMAS GIFT BAG LARGE</th>\n",
       "      <td>0</td>\n",
       "      <td>109</td>\n",
       "      <td>2272.25</td>\n",
       "      <td>4</td>\n",
       "      <td>3</td>\n",
       "      <td>4</td>\n",
       "    </tr>\n",
       "    <tr>\n",
       "      <th>DOLLY GIRL BEAKER</th>\n",
       "      <td>1</td>\n",
       "      <td>133</td>\n",
       "      <td>2738.25</td>\n",
       "      <td>4</td>\n",
       "      <td>4</td>\n",
       "      <td>4</td>\n",
       "    </tr>\n",
       "    <tr>\n",
       "      <th>I LOVE LONDON MINI BACKPACK</th>\n",
       "      <td>1</td>\n",
       "      <td>68</td>\n",
       "      <td>1433.25</td>\n",
       "      <td>4</td>\n",
       "      <td>3</td>\n",
       "      <td>3</td>\n",
       "    </tr>\n",
       "    <tr>\n",
       "      <th>I LOVE LONDON MINI RUCKSACK</th>\n",
       "      <td>64</td>\n",
       "      <td>1</td>\n",
       "      <td>4.15</td>\n",
       "      <td>1</td>\n",
       "      <td>1</td>\n",
       "      <td>1</td>\n",
       "    </tr>\n",
       "  </tbody>\n",
       "</table>\n",
       "</div>"
      ],
      "text/plain": [
       "                                Recency  Frequency  Monetary  R_Quartile  \\\n",
       "Description                                                                \n",
       " 4 PURPLE FLOCK DINNER CANDLES        1         36    255.46           4   \n",
       " 50'S CHRISTMAS GIFT BAG LARGE        0        109   2272.25           4   \n",
       " DOLLY GIRL BEAKER                    1        133   2738.25           4   \n",
       " I LOVE LONDON MINI BACKPACK          1         68   1433.25           4   \n",
       " I LOVE LONDON MINI RUCKSACK         64          1      4.15           1   \n",
       "\n",
       "                                F_Quartile  M_Quartile  \n",
       "Description                                             \n",
       " 4 PURPLE FLOCK DINNER CANDLES           2           2  \n",
       " 50'S CHRISTMAS GIFT BAG LARGE           3           4  \n",
       " DOLLY GIRL BEAKER                       4           4  \n",
       " I LOVE LONDON MINI BACKPACK             3           3  \n",
       " I LOVE LONDON MINI RUCKSACK             1           1  "
      ]
     },
     "execution_count": 25,
     "metadata": {},
     "output_type": "execute_result"
    }
   ],
   "source": [
    "rfm_segmentation.head()"
   ]
  },
  {
   "cell_type": "code",
   "execution_count": 26,
   "metadata": {
    "colab": {
     "base_uri": "https://localhost:8080/",
     "height": 238
    },
    "id": "QWTaXNJ8woxT",
    "outputId": "e34a88c3-d70a-47e0-eb6a-56352467c1b6"
   },
   "outputs": [
    {
     "data": {
      "text/html": [
       "<div>\n",
       "<style scoped>\n",
       "    .dataframe tbody tr th:only-of-type {\n",
       "        vertical-align: middle;\n",
       "    }\n",
       "\n",
       "    .dataframe tbody tr th {\n",
       "        vertical-align: top;\n",
       "    }\n",
       "\n",
       "    .dataframe thead th {\n",
       "        text-align: right;\n",
       "    }\n",
       "</style>\n",
       "<table border=\"1\" class=\"dataframe\">\n",
       "  <thead>\n",
       "    <tr style=\"text-align: right;\">\n",
       "      <th></th>\n",
       "      <th>Recency</th>\n",
       "      <th>Frequency</th>\n",
       "      <th>Monetary</th>\n",
       "      <th>R_Quartile</th>\n",
       "      <th>F_Quartile</th>\n",
       "      <th>M_Quartile</th>\n",
       "      <th>RFMScore</th>\n",
       "    </tr>\n",
       "    <tr>\n",
       "      <th>Description</th>\n",
       "      <th></th>\n",
       "      <th></th>\n",
       "      <th></th>\n",
       "      <th></th>\n",
       "      <th></th>\n",
       "      <th></th>\n",
       "      <th></th>\n",
       "    </tr>\n",
       "  </thead>\n",
       "  <tbody>\n",
       "    <tr>\n",
       "      <th>4 PURPLE FLOCK DINNER CANDLES</th>\n",
       "      <td>1</td>\n",
       "      <td>36</td>\n",
       "      <td>255.46</td>\n",
       "      <td>4</td>\n",
       "      <td>2</td>\n",
       "      <td>2</td>\n",
       "      <td>422</td>\n",
       "    </tr>\n",
       "    <tr>\n",
       "      <th>50'S CHRISTMAS GIFT BAG LARGE</th>\n",
       "      <td>0</td>\n",
       "      <td>109</td>\n",
       "      <td>2272.25</td>\n",
       "      <td>4</td>\n",
       "      <td>3</td>\n",
       "      <td>4</td>\n",
       "      <td>434</td>\n",
       "    </tr>\n",
       "    <tr>\n",
       "      <th>DOLLY GIRL BEAKER</th>\n",
       "      <td>1</td>\n",
       "      <td>133</td>\n",
       "      <td>2738.25</td>\n",
       "      <td>4</td>\n",
       "      <td>4</td>\n",
       "      <td>4</td>\n",
       "      <td>444</td>\n",
       "    </tr>\n",
       "    <tr>\n",
       "      <th>I LOVE LONDON MINI BACKPACK</th>\n",
       "      <td>1</td>\n",
       "      <td>68</td>\n",
       "      <td>1433.25</td>\n",
       "      <td>4</td>\n",
       "      <td>3</td>\n",
       "      <td>3</td>\n",
       "      <td>433</td>\n",
       "    </tr>\n",
       "    <tr>\n",
       "      <th>I LOVE LONDON MINI RUCKSACK</th>\n",
       "      <td>64</td>\n",
       "      <td>1</td>\n",
       "      <td>4.15</td>\n",
       "      <td>1</td>\n",
       "      <td>1</td>\n",
       "      <td>1</td>\n",
       "      <td>111</td>\n",
       "    </tr>\n",
       "  </tbody>\n",
       "</table>\n",
       "</div>"
      ],
      "text/plain": [
       "                                Recency  Frequency  Monetary  R_Quartile  \\\n",
       "Description                                                                \n",
       " 4 PURPLE FLOCK DINNER CANDLES        1         36    255.46           4   \n",
       " 50'S CHRISTMAS GIFT BAG LARGE        0        109   2272.25           4   \n",
       " DOLLY GIRL BEAKER                    1        133   2738.25           4   \n",
       " I LOVE LONDON MINI BACKPACK          1         68   1433.25           4   \n",
       " I LOVE LONDON MINI RUCKSACK         64          1      4.15           1   \n",
       "\n",
       "                                F_Quartile  M_Quartile RFMScore  \n",
       "Description                                                      \n",
       " 4 PURPLE FLOCK DINNER CANDLES           2           2      422  \n",
       " 50'S CHRISTMAS GIFT BAG LARGE           3           4      434  \n",
       " DOLLY GIRL BEAKER                       4           4      444  \n",
       " I LOVE LONDON MINI BACKPACK             3           3      433  \n",
       " I LOVE LONDON MINI RUCKSACK             1           1      111  "
      ]
     },
     "execution_count": 26,
     "metadata": {},
     "output_type": "execute_result"
    }
   ],
   "source": [
    "rfm_segmentation['RFMScore'] = rfm_segmentation.R_Quartile.map(str) \\\n",
    "                            + rfm_segmentation.F_Quartile.map(str) \\\n",
    "                            + rfm_segmentation.M_Quartile.map(str)\n",
    "rfm_segmentation.head()"
   ]
  },
  {
   "cell_type": "code",
   "execution_count": 27,
   "metadata": {
    "id": "5cq3Y77Iw8oP"
   },
   "outputs": [],
   "source": [
    "def classify_customer(df):\n",
    "    if (df['RFMScore'] == 444):\n",
    "        return 'Best customer Choice'\n",
    "    elif (df['RFMScore'] == 244):\n",
    "            return \"Almost Lost Customer Purchase\"\n",
    "    elif (df['RFMScore'] == 144):\n",
    "            return \"Lost Customer Purchase\"\n",
    "    elif (df['RFMScore'] == 111):\n",
    "            return \"Lost Low Spending Customer Purchase\"\n",
    "    else:\n",
    "        return \"Others\""
   ]
  },
  {
   "cell_type": "code",
   "execution_count": 28,
   "metadata": {
    "id": "iynOu5-5xB9l"
   },
   "outputs": [],
   "source": [
    "rfm_segmentation['RFMScore'] = rfm_segmentation['RFMScore'].apply(pd.to_numeric)"
   ]
  },
  {
   "cell_type": "code",
   "execution_count": 29,
   "metadata": {
    "id": "Fw_3qbNYxEib"
   },
   "outputs": [],
   "source": [
    "rfm_segmentation['Product_Segmentation'] = rfm_segmentation.apply(classify_customer,axis=1)"
   ]
  },
  {
   "cell_type": "code",
   "execution_count": 30,
   "metadata": {
    "id": "SLGnEFGlxHFz"
   },
   "outputs": [],
   "source": [
    "def classify_customer_2(df):\n",
    "    if (df['F_Quartile'] == 4):\n",
    "        return 'Loyal Customers Choice'\n",
    "    elif (df['M_Quartile'] == 4):\n",
    "            return \"Big Spenders Choice\"\n",
    "    elif (df['R_Quartile'] == 4):\n",
    "      return \"New Customers Choice\"\n",
    "    else:\n",
    "      return \"NA\""
   ]
  },
  {
   "cell_type": "code",
   "execution_count": 31,
   "metadata": {
    "id": "AiOG69duxJny"
   },
   "outputs": [],
   "source": [
    "rfm_segmentation['Prod_Seg_RFM'] = rfm_segmentation.apply(classify_customer_2,axis=1)"
   ]
  },
  {
   "cell_type": "code",
   "execution_count": 32,
   "metadata": {
    "colab": {
     "base_uri": "https://localhost:8080/",
     "height": 0
    },
    "id": "i7ZRgwFMxKqg",
    "outputId": "0f901533-6232-41ad-e97e-94dce388a138"
   },
   "outputs": [
    {
     "data": {
      "text/plain": [
       "(3877, 9)"
      ]
     },
     "execution_count": 32,
     "metadata": {},
     "output_type": "execute_result"
    }
   ],
   "source": [
    "rfm_segmentation.shape"
   ]
  },
  {
   "cell_type": "code",
   "execution_count": 33,
   "metadata": {
    "colab": {
     "base_uri": "https://localhost:8080/",
     "height": 351
    },
    "id": "lo1j7C9ZxRQg",
    "outputId": "5db07c2f-c791-410e-a946-543f883f55f8"
   },
   "outputs": [
    {
     "data": {
      "text/html": [
       "<div>\n",
       "<style scoped>\n",
       "    .dataframe tbody tr th:only-of-type {\n",
       "        vertical-align: middle;\n",
       "    }\n",
       "\n",
       "    .dataframe tbody tr th {\n",
       "        vertical-align: top;\n",
       "    }\n",
       "\n",
       "    .dataframe thead th {\n",
       "        text-align: right;\n",
       "    }\n",
       "</style>\n",
       "<table border=\"1\" class=\"dataframe\">\n",
       "  <thead>\n",
       "    <tr style=\"text-align: right;\">\n",
       "      <th></th>\n",
       "      <th>Recency</th>\n",
       "      <th>Frequency</th>\n",
       "      <th>Monetary</th>\n",
       "      <th>R_Quartile</th>\n",
       "      <th>F_Quartile</th>\n",
       "      <th>M_Quartile</th>\n",
       "      <th>RFMScore</th>\n",
       "      <th>Product_Segmentation</th>\n",
       "      <th>Prod_Seg_RFM</th>\n",
       "    </tr>\n",
       "    <tr>\n",
       "      <th>Description</th>\n",
       "      <th></th>\n",
       "      <th></th>\n",
       "      <th></th>\n",
       "      <th></th>\n",
       "      <th></th>\n",
       "      <th></th>\n",
       "      <th></th>\n",
       "      <th></th>\n",
       "      <th></th>\n",
       "    </tr>\n",
       "  </thead>\n",
       "  <tbody>\n",
       "    <tr>\n",
       "      <th>4 PURPLE FLOCK DINNER CANDLES</th>\n",
       "      <td>1</td>\n",
       "      <td>36</td>\n",
       "      <td>255.46</td>\n",
       "      <td>4</td>\n",
       "      <td>2</td>\n",
       "      <td>2</td>\n",
       "      <td>422</td>\n",
       "      <td>Others</td>\n",
       "      <td>New Customers Choice</td>\n",
       "    </tr>\n",
       "    <tr>\n",
       "      <th>50'S CHRISTMAS GIFT BAG LARGE</th>\n",
       "      <td>0</td>\n",
       "      <td>109</td>\n",
       "      <td>2272.25</td>\n",
       "      <td>4</td>\n",
       "      <td>3</td>\n",
       "      <td>4</td>\n",
       "      <td>434</td>\n",
       "      <td>Others</td>\n",
       "      <td>Big Spenders Choice</td>\n",
       "    </tr>\n",
       "    <tr>\n",
       "      <th>DOLLY GIRL BEAKER</th>\n",
       "      <td>1</td>\n",
       "      <td>133</td>\n",
       "      <td>2738.25</td>\n",
       "      <td>4</td>\n",
       "      <td>4</td>\n",
       "      <td>4</td>\n",
       "      <td>444</td>\n",
       "      <td>Best customer Choice</td>\n",
       "      <td>Loyal Customers Choice</td>\n",
       "    </tr>\n",
       "    <tr>\n",
       "      <th>I LOVE LONDON MINI BACKPACK</th>\n",
       "      <td>1</td>\n",
       "      <td>68</td>\n",
       "      <td>1433.25</td>\n",
       "      <td>4</td>\n",
       "      <td>3</td>\n",
       "      <td>3</td>\n",
       "      <td>433</td>\n",
       "      <td>Others</td>\n",
       "      <td>New Customers Choice</td>\n",
       "    </tr>\n",
       "    <tr>\n",
       "      <th>I LOVE LONDON MINI RUCKSACK</th>\n",
       "      <td>64</td>\n",
       "      <td>1</td>\n",
       "      <td>4.15</td>\n",
       "      <td>1</td>\n",
       "      <td>1</td>\n",
       "      <td>1</td>\n",
       "      <td>111</td>\n",
       "      <td>Lost Low Spending Customer Purchase</td>\n",
       "      <td>NA</td>\n",
       "    </tr>\n",
       "  </tbody>\n",
       "</table>\n",
       "</div>"
      ],
      "text/plain": [
       "                                Recency  Frequency  Monetary  R_Quartile  \\\n",
       "Description                                                                \n",
       " 4 PURPLE FLOCK DINNER CANDLES        1         36    255.46           4   \n",
       " 50'S CHRISTMAS GIFT BAG LARGE        0        109   2272.25           4   \n",
       " DOLLY GIRL BEAKER                    1        133   2738.25           4   \n",
       " I LOVE LONDON MINI BACKPACK          1         68   1433.25           4   \n",
       " I LOVE LONDON MINI RUCKSACK         64          1      4.15           1   \n",
       "\n",
       "                                F_Quartile  M_Quartile  RFMScore  \\\n",
       "Description                                                        \n",
       " 4 PURPLE FLOCK DINNER CANDLES           2           2       422   \n",
       " 50'S CHRISTMAS GIFT BAG LARGE           3           4       434   \n",
       " DOLLY GIRL BEAKER                       4           4       444   \n",
       " I LOVE LONDON MINI BACKPACK             3           3       433   \n",
       " I LOVE LONDON MINI RUCKSACK             1           1       111   \n",
       "\n",
       "                                               Product_Segmentation  \\\n",
       "Description                                                           \n",
       " 4 PURPLE FLOCK DINNER CANDLES                               Others   \n",
       " 50'S CHRISTMAS GIFT BAG LARGE                               Others   \n",
       " DOLLY GIRL BEAKER                             Best customer Choice   \n",
       " I LOVE LONDON MINI BACKPACK                                 Others   \n",
       " I LOVE LONDON MINI RUCKSACK    Lost Low Spending Customer Purchase   \n",
       "\n",
       "                                          Prod_Seg_RFM  \n",
       "Description                                             \n",
       " 4 PURPLE FLOCK DINNER CANDLES    New Customers Choice  \n",
       " 50'S CHRISTMAS GIFT BAG LARGE     Big Spenders Choice  \n",
       " DOLLY GIRL BEAKER              Loyal Customers Choice  \n",
       " I LOVE LONDON MINI BACKPACK      New Customers Choice  \n",
       " I LOVE LONDON MINI RUCKSACK                        NA  "
      ]
     },
     "execution_count": 33,
     "metadata": {},
     "output_type": "execute_result"
    }
   ],
   "source": [
    "rfm_segmentation.head()"
   ]
  },
  {
   "cell_type": "code",
   "execution_count": 34,
   "metadata": {
    "colab": {
     "base_uri": "https://localhost:8080/",
     "height": 499
    },
    "id": "Zf7jRMAhyNz7",
    "outputId": "c497195f-f156-4af3-ee77-86549e5cd1eb"
   },
   "outputs": [
    {
     "data": {
      "text/html": [
       "<div>\n",
       "<style scoped>\n",
       "    .dataframe tbody tr th:only-of-type {\n",
       "        vertical-align: middle;\n",
       "    }\n",
       "\n",
       "    .dataframe tbody tr th {\n",
       "        vertical-align: top;\n",
       "    }\n",
       "\n",
       "    .dataframe thead th {\n",
       "        text-align: right;\n",
       "    }\n",
       "</style>\n",
       "<table border=\"1\" class=\"dataframe\">\n",
       "  <thead>\n",
       "    <tr style=\"text-align: right;\">\n",
       "      <th></th>\n",
       "      <th>Recency</th>\n",
       "      <th>Frequency</th>\n",
       "      <th>Monetary</th>\n",
       "      <th>R_Quartile</th>\n",
       "      <th>F_Quartile</th>\n",
       "      <th>M_Quartile</th>\n",
       "      <th>RFMScore</th>\n",
       "      <th>Product_Segmentation</th>\n",
       "      <th>Prod_Seg_RFM</th>\n",
       "    </tr>\n",
       "    <tr>\n",
       "      <th>Description</th>\n",
       "      <th></th>\n",
       "      <th></th>\n",
       "      <th></th>\n",
       "      <th></th>\n",
       "      <th></th>\n",
       "      <th></th>\n",
       "      <th></th>\n",
       "      <th></th>\n",
       "      <th></th>\n",
       "    </tr>\n",
       "  </thead>\n",
       "  <tbody>\n",
       "    <tr>\n",
       "      <th>DOLLY GIRL BEAKER</th>\n",
       "      <td>1</td>\n",
       "      <td>133</td>\n",
       "      <td>2738.25</td>\n",
       "      <td>4</td>\n",
       "      <td>4</td>\n",
       "      <td>4</td>\n",
       "      <td>444</td>\n",
       "      <td>Best customer Choice</td>\n",
       "      <td>Loyal Customers Choice</td>\n",
       "    </tr>\n",
       "    <tr>\n",
       "      <th>SPACEBOY BABY GIFT SET</th>\n",
       "      <td>1</td>\n",
       "      <td>142</td>\n",
       "      <td>7048.55</td>\n",
       "      <td>4</td>\n",
       "      <td>4</td>\n",
       "      <td>4</td>\n",
       "      <td>444</td>\n",
       "      <td>Best customer Choice</td>\n",
       "      <td>Loyal Customers Choice</td>\n",
       "    </tr>\n",
       "    <tr>\n",
       "      <th>12 MESSAGE CARDS WITH ENVELOPES</th>\n",
       "      <td>0</td>\n",
       "      <td>187</td>\n",
       "      <td>2547.30</td>\n",
       "      <td>4</td>\n",
       "      <td>4</td>\n",
       "      <td>4</td>\n",
       "      <td>444</td>\n",
       "      <td>Best customer Choice</td>\n",
       "      <td>Loyal Customers Choice</td>\n",
       "    </tr>\n",
       "    <tr>\n",
       "      <th>12 PENCIL SMALL TUBE WOODLAND</th>\n",
       "      <td>1</td>\n",
       "      <td>276</td>\n",
       "      <td>2452.35</td>\n",
       "      <td>4</td>\n",
       "      <td>4</td>\n",
       "      <td>4</td>\n",
       "      <td>444</td>\n",
       "      <td>Best customer Choice</td>\n",
       "      <td>Loyal Customers Choice</td>\n",
       "    </tr>\n",
       "    <tr>\n",
       "      <th>12 PENCILS SMALL TUBE RED RETROSPOT</th>\n",
       "      <td>1</td>\n",
       "      <td>307</td>\n",
       "      <td>3979.10</td>\n",
       "      <td>4</td>\n",
       "      <td>4</td>\n",
       "      <td>4</td>\n",
       "      <td>444</td>\n",
       "      <td>Best customer Choice</td>\n",
       "      <td>Loyal Customers Choice</td>\n",
       "    </tr>\n",
       "    <tr>\n",
       "      <th>...</th>\n",
       "      <td>...</td>\n",
       "      <td>...</td>\n",
       "      <td>...</td>\n",
       "      <td>...</td>\n",
       "      <td>...</td>\n",
       "      <td>...</td>\n",
       "      <td>...</td>\n",
       "      <td>...</td>\n",
       "      <td>...</td>\n",
       "    </tr>\n",
       "    <tr>\n",
       "      <th>YOU'RE CONFUSING ME METAL SIGN</th>\n",
       "      <td>0</td>\n",
       "      <td>342</td>\n",
       "      <td>6708.49</td>\n",
       "      <td>4</td>\n",
       "      <td>4</td>\n",
       "      <td>4</td>\n",
       "      <td>444</td>\n",
       "      <td>Best customer Choice</td>\n",
       "      <td>Loyal Customers Choice</td>\n",
       "    </tr>\n",
       "    <tr>\n",
       "      <th>ZINC FOLKART SLEIGH BELLS</th>\n",
       "      <td>1</td>\n",
       "      <td>339</td>\n",
       "      <td>7612.72</td>\n",
       "      <td>4</td>\n",
       "      <td>4</td>\n",
       "      <td>4</td>\n",
       "      <td>444</td>\n",
       "      <td>Best customer Choice</td>\n",
       "      <td>Loyal Customers Choice</td>\n",
       "    </tr>\n",
       "    <tr>\n",
       "      <th>ZINC METAL HEART DECORATION</th>\n",
       "      <td>1</td>\n",
       "      <td>476</td>\n",
       "      <td>7053.68</td>\n",
       "      <td>4</td>\n",
       "      <td>4</td>\n",
       "      <td>4</td>\n",
       "      <td>444</td>\n",
       "      <td>Best customer Choice</td>\n",
       "      <td>Loyal Customers Choice</td>\n",
       "    </tr>\n",
       "    <tr>\n",
       "      <th>ZINC T-LIGHT HOLDER STARS SMALL</th>\n",
       "      <td>1</td>\n",
       "      <td>237</td>\n",
       "      <td>3876.66</td>\n",
       "      <td>4</td>\n",
       "      <td>4</td>\n",
       "      <td>4</td>\n",
       "      <td>444</td>\n",
       "      <td>Best customer Choice</td>\n",
       "      <td>Loyal Customers Choice</td>\n",
       "    </tr>\n",
       "    <tr>\n",
       "      <th>ZINC WILLIE WINKIE  CANDLE STICK</th>\n",
       "      <td>0</td>\n",
       "      <td>188</td>\n",
       "      <td>2168.45</td>\n",
       "      <td>4</td>\n",
       "      <td>4</td>\n",
       "      <td>4</td>\n",
       "      <td>444</td>\n",
       "      <td>Best customer Choice</td>\n",
       "      <td>Loyal Customers Choice</td>\n",
       "    </tr>\n",
       "  </tbody>\n",
       "</table>\n",
       "<p>561 rows × 9 columns</p>\n",
       "</div>"
      ],
      "text/plain": [
       "                                     Recency  Frequency  Monetary  R_Quartile  \\\n",
       "Description                                                                     \n",
       " DOLLY GIRL BEAKER                         1        133   2738.25           4   \n",
       " SPACEBOY BABY GIFT SET                    1        142   7048.55           4   \n",
       "12 MESSAGE CARDS WITH ENVELOPES            0        187   2547.30           4   \n",
       "12 PENCIL SMALL TUBE WOODLAND              1        276   2452.35           4   \n",
       "12 PENCILS SMALL TUBE RED RETROSPOT        1        307   3979.10           4   \n",
       "...                                      ...        ...       ...         ...   \n",
       "YOU'RE CONFUSING ME METAL SIGN             0        342   6708.49           4   \n",
       "ZINC FOLKART SLEIGH BELLS                  1        339   7612.72           4   \n",
       "ZINC METAL HEART DECORATION                1        476   7053.68           4   \n",
       "ZINC T-LIGHT HOLDER STARS SMALL            1        237   3876.66           4   \n",
       "ZINC WILLIE WINKIE  CANDLE STICK           0        188   2168.45           4   \n",
       "\n",
       "                                     F_Quartile  M_Quartile  RFMScore  \\\n",
       "Description                                                             \n",
       " DOLLY GIRL BEAKER                            4           4       444   \n",
       " SPACEBOY BABY GIFT SET                       4           4       444   \n",
       "12 MESSAGE CARDS WITH ENVELOPES               4           4       444   \n",
       "12 PENCIL SMALL TUBE WOODLAND                 4           4       444   \n",
       "12 PENCILS SMALL TUBE RED RETROSPOT           4           4       444   \n",
       "...                                         ...         ...       ...   \n",
       "YOU'RE CONFUSING ME METAL SIGN                4           4       444   \n",
       "ZINC FOLKART SLEIGH BELLS                     4           4       444   \n",
       "ZINC METAL HEART DECORATION                   4           4       444   \n",
       "ZINC T-LIGHT HOLDER STARS SMALL               4           4       444   \n",
       "ZINC WILLIE WINKIE  CANDLE STICK              4           4       444   \n",
       "\n",
       "                                     Product_Segmentation  \\\n",
       "Description                                                 \n",
       " DOLLY GIRL BEAKER                   Best customer Choice   \n",
       " SPACEBOY BABY GIFT SET              Best customer Choice   \n",
       "12 MESSAGE CARDS WITH ENVELOPES      Best customer Choice   \n",
       "12 PENCIL SMALL TUBE WOODLAND        Best customer Choice   \n",
       "12 PENCILS SMALL TUBE RED RETROSPOT  Best customer Choice   \n",
       "...                                                   ...   \n",
       "YOU'RE CONFUSING ME METAL SIGN       Best customer Choice   \n",
       "ZINC FOLKART SLEIGH BELLS            Best customer Choice   \n",
       "ZINC METAL HEART DECORATION          Best customer Choice   \n",
       "ZINC T-LIGHT HOLDER STARS SMALL      Best customer Choice   \n",
       "ZINC WILLIE WINKIE  CANDLE STICK     Best customer Choice   \n",
       "\n",
       "                                               Prod_Seg_RFM  \n",
       "Description                                                  \n",
       " DOLLY GIRL BEAKER                   Loyal Customers Choice  \n",
       " SPACEBOY BABY GIFT SET              Loyal Customers Choice  \n",
       "12 MESSAGE CARDS WITH ENVELOPES      Loyal Customers Choice  \n",
       "12 PENCIL SMALL TUBE WOODLAND        Loyal Customers Choice  \n",
       "12 PENCILS SMALL TUBE RED RETROSPOT  Loyal Customers Choice  \n",
       "...                                                     ...  \n",
       "YOU'RE CONFUSING ME METAL SIGN       Loyal Customers Choice  \n",
       "ZINC FOLKART SLEIGH BELLS            Loyal Customers Choice  \n",
       "ZINC METAL HEART DECORATION          Loyal Customers Choice  \n",
       "ZINC T-LIGHT HOLDER STARS SMALL      Loyal Customers Choice  \n",
       "ZINC WILLIE WINKIE  CANDLE STICK     Loyal Customers Choice  \n",
       "\n",
       "[561 rows x 9 columns]"
      ]
     },
     "execution_count": 34,
     "metadata": {},
     "output_type": "execute_result"
    }
   ],
   "source": [
    "rfm_segmentation[rfm_segmentation.Product_Segmentation == 'Best customer Choice' ]"
   ]
  },
  {
   "cell_type": "markdown",
   "metadata": {
    "id": "yFvRsG4aR-hS"
   },
   "source": []
  },
  {
   "cell_type": "code",
   "execution_count": null,
   "metadata": {
    "id": "mazkEifcyw47"
   },
   "outputs": [],
   "source": []
  },
  {
   "cell_type": "markdown",
   "metadata": {
    "id": "YU81ws_5y_qy"
   },
   "source": [
    "##Second Method"
   ]
  },
  {
   "cell_type": "markdown",
   "metadata": {
    "id": "66qnRYZRzBr-"
   },
   "source": [
    "Fetch the Customer ID --> Identify its transactions --> Create top 3 Recent Purchases --> Top 3 Frequently Purchased --> Top 3 Expensive Products Purchased"
   ]
  },
  {
   "cell_type": "code",
   "execution_count": 35,
   "metadata": {
    "colab": {
     "base_uri": "https://localhost:8080/",
     "height": 0
    },
    "id": "8HCgnzRrzBA5",
    "outputId": "31f97de8-f2fa-4975-b75b-2b01ee672c4c"
   },
   "outputs": [
    {
     "data": {
      "text/plain": [
       "(387772, 10)"
      ]
     },
     "execution_count": 35,
     "metadata": {},
     "output_type": "execute_result"
    }
   ],
   "source": [
    "df_new.shape"
   ]
  },
  {
   "cell_type": "code",
   "execution_count": 36,
   "metadata": {
    "colab": {
     "base_uri": "https://localhost:8080/",
     "height": 206
    },
    "id": "J50V4ZF-MlAN",
    "outputId": "9969541d-5536-436d-eb2b-402e67c69338"
   },
   "outputs": [
    {
     "data": {
      "text/html": [
       "<div>\n",
       "<style scoped>\n",
       "    .dataframe tbody tr th:only-of-type {\n",
       "        vertical-align: middle;\n",
       "    }\n",
       "\n",
       "    .dataframe tbody tr th {\n",
       "        vertical-align: top;\n",
       "    }\n",
       "\n",
       "    .dataframe thead th {\n",
       "        text-align: right;\n",
       "    }\n",
       "</style>\n",
       "<table border=\"1\" class=\"dataframe\">\n",
       "  <thead>\n",
       "    <tr style=\"text-align: right;\">\n",
       "      <th></th>\n",
       "      <th>InvoiceNo</th>\n",
       "      <th>StockCode</th>\n",
       "      <th>Description</th>\n",
       "      <th>Quantity</th>\n",
       "      <th>InvoiceDate</th>\n",
       "      <th>UnitPrice</th>\n",
       "      <th>CustomerID</th>\n",
       "      <th>Country</th>\n",
       "      <th>date</th>\n",
       "      <th>TotalCost</th>\n",
       "    </tr>\n",
       "  </thead>\n",
       "  <tbody>\n",
       "    <tr>\n",
       "      <th>0</th>\n",
       "      <td>536365</td>\n",
       "      <td>85123A</td>\n",
       "      <td>WHITE HANGING HEART T-LIGHT HOLDER</td>\n",
       "      <td>6</td>\n",
       "      <td>12/1/2010 8:26</td>\n",
       "      <td>2.55</td>\n",
       "      <td>17850</td>\n",
       "      <td>United Kingdom</td>\n",
       "      <td>2010-12-01</td>\n",
       "      <td>15.30</td>\n",
       "    </tr>\n",
       "    <tr>\n",
       "      <th>1</th>\n",
       "      <td>536365</td>\n",
       "      <td>71053</td>\n",
       "      <td>WHITE METAL LANTERN</td>\n",
       "      <td>6</td>\n",
       "      <td>12/1/2010 8:26</td>\n",
       "      <td>3.39</td>\n",
       "      <td>17850</td>\n",
       "      <td>United Kingdom</td>\n",
       "      <td>2010-12-01</td>\n",
       "      <td>20.34</td>\n",
       "    </tr>\n",
       "    <tr>\n",
       "      <th>2</th>\n",
       "      <td>536365</td>\n",
       "      <td>84406B</td>\n",
       "      <td>CREAM CUPID HEARTS COAT HANGER</td>\n",
       "      <td>8</td>\n",
       "      <td>12/1/2010 8:26</td>\n",
       "      <td>2.75</td>\n",
       "      <td>17850</td>\n",
       "      <td>United Kingdom</td>\n",
       "      <td>2010-12-01</td>\n",
       "      <td>22.00</td>\n",
       "    </tr>\n",
       "    <tr>\n",
       "      <th>3</th>\n",
       "      <td>536365</td>\n",
       "      <td>84029G</td>\n",
       "      <td>KNITTED UNION FLAG HOT WATER BOTTLE</td>\n",
       "      <td>6</td>\n",
       "      <td>12/1/2010 8:26</td>\n",
       "      <td>3.39</td>\n",
       "      <td>17850</td>\n",
       "      <td>United Kingdom</td>\n",
       "      <td>2010-12-01</td>\n",
       "      <td>20.34</td>\n",
       "    </tr>\n",
       "    <tr>\n",
       "      <th>4</th>\n",
       "      <td>536365</td>\n",
       "      <td>84029E</td>\n",
       "      <td>RED WOOLLY HOTTIE WHITE HEART.</td>\n",
       "      <td>6</td>\n",
       "      <td>12/1/2010 8:26</td>\n",
       "      <td>3.39</td>\n",
       "      <td>17850</td>\n",
       "      <td>United Kingdom</td>\n",
       "      <td>2010-12-01</td>\n",
       "      <td>20.34</td>\n",
       "    </tr>\n",
       "  </tbody>\n",
       "</table>\n",
       "</div>"
      ],
      "text/plain": [
       "  InvoiceNo StockCode                          Description  Quantity  \\\n",
       "0    536365    85123A   WHITE HANGING HEART T-LIGHT HOLDER         6   \n",
       "1    536365     71053                  WHITE METAL LANTERN         6   \n",
       "2    536365    84406B       CREAM CUPID HEARTS COAT HANGER         8   \n",
       "3    536365    84029G  KNITTED UNION FLAG HOT WATER BOTTLE         6   \n",
       "4    536365    84029E       RED WOOLLY HOTTIE WHITE HEART.         6   \n",
       "\n",
       "      InvoiceDate  UnitPrice CustomerID         Country        date  TotalCost  \n",
       "0  12/1/2010 8:26       2.55      17850  United Kingdom  2010-12-01      15.30  \n",
       "1  12/1/2010 8:26       3.39      17850  United Kingdom  2010-12-01      20.34  \n",
       "2  12/1/2010 8:26       2.75      17850  United Kingdom  2010-12-01      22.00  \n",
       "3  12/1/2010 8:26       3.39      17850  United Kingdom  2010-12-01      20.34  \n",
       "4  12/1/2010 8:26       3.39      17850  United Kingdom  2010-12-01      20.34  "
      ]
     },
     "execution_count": 36,
     "metadata": {},
     "output_type": "execute_result"
    }
   ],
   "source": [
    "df_new.head()"
   ]
  },
  {
   "cell_type": "code",
   "execution_count": 37,
   "metadata": {
    "id": "H4L_txmnM14f"
   },
   "outputs": [],
   "source": [
    "df_new['CustomerID'] = df_new['CustomerID'].apply(pd.to_numeric)"
   ]
  },
  {
   "cell_type": "code",
   "execution_count": 38,
   "metadata": {
    "colab": {
     "base_uri": "https://localhost:8080/",
     "height": 0
    },
    "id": "yyzos6MxM7q6",
    "outputId": "d7e69192-d3d1-4acd-a5a0-a8a513c7d4bb"
   },
   "outputs": [
    {
     "name": "stdout",
     "output_type": "stream",
     "text": [
      "<class 'pandas.core.frame.DataFrame'>\n",
      "Index: 387772 entries, 0 to 541908\n",
      "Data columns (total 10 columns):\n",
      " #   Column       Non-Null Count   Dtype  \n",
      "---  ------       --------------   -----  \n",
      " 0   InvoiceNo    387772 non-null  object \n",
      " 1   StockCode    387772 non-null  object \n",
      " 2   Description  387772 non-null  object \n",
      " 3   Quantity     387772 non-null  int64  \n",
      " 4   InvoiceDate  387772 non-null  object \n",
      " 5   UnitPrice    387772 non-null  float64\n",
      " 6   CustomerID   387772 non-null  int64  \n",
      " 7   Country      387772 non-null  object \n",
      " 8   date         387772 non-null  object \n",
      " 9   TotalCost    387772 non-null  float64\n",
      "dtypes: float64(2), int64(2), object(6)\n",
      "memory usage: 32.5+ MB\n"
     ]
    }
   ],
   "source": [
    "df_new.info()"
   ]
  },
  {
   "cell_type": "code",
   "execution_count": 40,
   "metadata": {
    "id": "f2-Icl7K18qE"
   },
   "outputs": [],
   "source": [
    "def get_customer_data(customerID, df):\n",
    "  df_transaction = df_new[df_new['CustomerID'] ==  customerID]\n",
    "  df_transaction = df_transaction.sort_values(by='date', ascending=False)\n",
    "\n",
    "  # Get the most recently purchased 3 products\n",
    "  recent_products = df_transaction.head(3)['Description'].tolist()\n",
    "\n",
    " #get the most frequently purchased products\n",
    "  product_totals = df_transaction.groupby(['Description'])['Quantity'].sum()\n",
    "\n",
    "  sorted_product_totals = product_totals.sort_values(ascending=False)\n",
    "\n",
    "  # Get the top 3 products purchased\n",
    "  top_3_products = sorted_product_totals.head(3).reset_index().values.tolist()\n",
    "\n",
    "  sorted_price_totals = df_new.sort_values(by='TotalCost')\n",
    "  top_3_M_products = sorted_price_totals.head(3)['Description'].tolist()\n",
    "\n",
    "  return recent_products ,top_3_products, top_3_M_products"
   ]
  },
  {
   "cell_type": "code",
   "execution_count": 41,
   "metadata": {
    "id": "_SPt30VlQPwQ"
   },
   "outputs": [],
   "source": [
    "recent_products =[]\n",
    "top_3_products = []\n",
    "top_3_M_products=[]"
   ]
  },
  {
   "cell_type": "code",
   "execution_count": 42,
   "metadata": {
    "colab": {
     "base_uri": "https://localhost:8080/",
     "height": 0
    },
    "id": "x52AFvPV2bf6",
    "outputId": "485e443b-2215-4aaf-9b26-b8fb8067c95d"
   },
   "outputs": [
    {
     "name": "stdout",
     "output_type": "stream",
     "text": [
      "Recent Products ['WHITE METAL LANTERN', 'CREAM CUPID HEARTS COAT HANGER', 'WHITE HANGING HEART T-LIGHT HOLDER']\n",
      "Frequent Products [['WHITE METAL LANTERN', 122], ['WHITE HANGING HEART T-LIGHT HOLDER', 122], ['KNITTED UNION FLAG HOT WATER BOTTLE', 110]]\n",
      "Monetary Products ['PASTEL COLOUR HONEYCOMB FAN', 'SET OF 6 SOLDIER SKITTLES', 'CHRISTMAS PUDDING TRINKET POT ']\n"
     ]
    }
   ],
   "source": [
    "recent_products,top_3_products,top_3_M_products = get_customer_data(17850, df_new)\n",
    "print(\"Recent Products\", recent_products)\n",
    "print(\"Frequent Products\", top_3_products)\n",
    "print(\"Monetary Products\", top_3_M_products)"
   ]
  },
  {
   "cell_type": "code",
   "execution_count": null,
   "metadata": {},
   "outputs": [],
   "source": []
  }
 ],
 "metadata": {
  "colab": {
   "provenance": []
  },
  "kernelspec": {
   "display_name": "Python 3 (ipykernel)",
   "language": "python",
   "name": "python3"
  },
  "language_info": {
   "codemirror_mode": {
    "name": "ipython",
    "version": 3
   },
   "file_extension": ".py",
   "mimetype": "text/x-python",
   "name": "python",
   "nbconvert_exporter": "python",
   "pygments_lexer": "ipython3",
   "version": "3.8.10"
  }
 },
 "nbformat": 4,
 "nbformat_minor": 4
}
